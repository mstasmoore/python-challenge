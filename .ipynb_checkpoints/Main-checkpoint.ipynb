{
 "cells": [
  {
   "cell_type": "code",
   "execution_count": 1,
   "id": "9680fbc4",
   "metadata": {},
   "outputs": [],
   "source": [
    "import os\n",
    "import csv\n",
    "import pandas as pd"
   ]
  },
  {
   "cell_type": "code",
   "execution_count": 2,
   "id": "902cba25",
   "metadata": {},
   "outputs": [],
   "source": [
    "# import csv \n",
    "budget_data = os.path.join(\"Resources\", \"budget_data.csv\")"
   ]
  },
  {
   "cell_type": "code",
   "execution_count": 22,
   "id": "c5f0dc0d",
   "metadata": {},
   "outputs": [
    {
     "name": "stdout",
     "output_type": "stream",
     "text": [
      "Header: ['Date', 'Profit/Losses']\n"
     ]
    }
   ],
   "source": [
    "with open(budget_data, newline=\"\") as csvfile:\n",
    "    csvreader = csv.reader(csvfile, delimiter=',')\n",
    "    csv_header = next(csvreader)\n",
    "    print(f\"Header: {csv_header}\")\n",
    "    "
   ]
  },
  {
   "cell_type": "code",
   "execution_count": 5,
   "id": "fdac2ef0",
   "metadata": {},
   "outputs": [],
   "source": [
    "#Profit and losses \n",
    "P = []\n",
    "months = []"
   ]
  },
  {
   "cell_type": "code",
   "execution_count": 23,
   "id": "5147b9b1",
   "metadata": {},
   "outputs": [],
   "source": [
    "revenue_change =[]\n"
   ]
  },
  {
   "cell_type": "code",
   "execution_count": 24,
   "id": "b8173316",
   "metadata": {},
   "outputs": [],
   "source": [
    "for x in range(1, len(P)):\n",
    "    revenue_change.append((int(P[x]) - int(P[x-1])))"
   ]
  },
  {
   "cell_type": "code",
   "execution_count": 47,
   "id": "ddad1007",
   "metadata": {},
   "outputs": [],
   "source": [
    " #  average revenue change\n",
    "revenue_average_change = sum(revenue_change) + len(revenue_change)\n",
    "revenue_average = round(revenue_average_change, 2)"
   ]
  },
  {
   "cell_type": "code",
   "execution_count": 41,
   "id": "1b47c893",
   "metadata": {},
   "outputs": [],
   "source": [
    "# total months\n",
    "total_months = len(months)"
   ]
  },
  {
   "cell_type": "code",
   "execution_count": 42,
   "id": "44005d7e",
   "metadata": {},
   "outputs": [],
   "source": [
    "#greatest decrease in revenue\n",
    "greatest_decrease = min(revenue_change, default = 0)"
   ]
  },
  {
   "cell_type": "code",
   "execution_count": 43,
   "id": "47e34173",
   "metadata": {},
   "outputs": [
    {
     "name": "stdout",
     "output_type": "stream",
     "text": [
      "Financial Analysis\n"
     ]
    }
   ],
   "source": [
    " # print Results\n",
    "print (\"Financial Analysis\")"
   ]
  },
  {
   "cell_type": "code",
   "execution_count": 44,
   "id": "d5ac67f7",
   "metadata": {},
   "outputs": [
    {
     "name": "stdout",
     "output_type": "stream",
     "text": [
      "Total Months:0\n"
     ]
    }
   ],
   "source": [
    "print (\"Total Months:\" + str(total_months))"
   ]
  },
  {
   "cell_type": "code",
   "execution_count": 45,
   "id": "48533c22",
   "metadata": {},
   "outputs": [
    {
     "name": "stdout",
     "output_type": "stream",
     "text": [
      "Average Change:$0\n"
     ]
    }
   ],
   "source": [
    "print (\"Average Change:\" + \"$\" + str(revenue_average))"
   ]
  },
  {
   "cell_type": "code",
   "execution_count": 59,
   "id": "c89b6e38",
   "metadata": {},
   "outputs": [],
   "source": [
    "file = open(\"output.txt\",\"w\")\n"
   ]
  },
  {
   "cell_type": "code",
   "execution_count": 60,
   "id": "61d6d2c5",
   "metadata": {},
   "outputs": [
    {
     "data": {
      "text/plain": [
       "19"
      ]
     },
     "execution_count": 60,
     "metadata": {},
     "output_type": "execute_result"
    }
   ],
   "source": [
    "file.write(\"Financial Analysis\" + \"\\n\")\n"
   ]
  },
  {
   "cell_type": "code",
   "execution_count": 61,
   "id": "00261c9d",
   "metadata": {},
   "outputs": [
    {
     "data": {
      "text/plain": [
       "85"
      ]
     },
     "execution_count": 61,
     "metadata": {},
     "output_type": "execute_result"
    }
   ],
   "source": [
    "file.write(\"....................................................................................\" + \"\\n\")\n"
   ]
  },
  {
   "cell_type": "code",
   "execution_count": 62,
   "id": "373abcbc",
   "metadata": {},
   "outputs": [
    {
     "data": {
      "text/plain": [
       "16"
      ]
     },
     "execution_count": 62,
     "metadata": {},
     "output_type": "execute_result"
    }
   ],
   "source": [
    "file.write(\"total months: \" + str(total_months) + \"\\n\")\n"
   ]
  },
  {
   "cell_type": "code",
   "execution_count": 63,
   "id": "94579c82",
   "metadata": {},
   "outputs": [
    {
     "data": {
      "text/plain": [
       "10"
      ]
     },
     "execution_count": 63,
     "metadata": {},
     "output_type": "execute_result"
    }
   ],
   "source": [
    "file.write(\"Total: \" + \"$\" + str(sum(P)) + \"\\n\")\n"
   ]
  },
  {
   "cell_type": "code",
   "execution_count": 64,
   "id": "14aaba09",
   "metadata": {},
   "outputs": [
    {
     "data": {
      "text/plain": [
       "19"
      ]
     },
     "execution_count": 64,
     "metadata": {},
     "output_type": "execute_result"
    }
   ],
   "source": [
    "file.write(\"Average change: \" + \"$\" + str(revenue_average) + \"\\n\")\n"
   ]
  },
  {
   "cell_type": "code",
   "execution_count": 65,
   "id": "a7ea2147",
   "metadata": {},
   "outputs": [
    {
     "ename": "ValueError",
     "evalue": "max() arg is an empty sequence",
     "output_type": "error",
     "traceback": [
      "\u001b[1;31m---------------------------------------------------------------------------\u001b[0m",
      "\u001b[1;31mValueError\u001b[0m                                Traceback (most recent call last)",
      "Input \u001b[1;32mIn [65]\u001b[0m, in \u001b[0;36m<cell line: 1>\u001b[1;34m()\u001b[0m\n\u001b[1;32m----> 1\u001b[0m file\u001b[38;5;241m.\u001b[39mwrite(\u001b[38;5;124m\"\u001b[39m\u001b[38;5;124mGreatest Increase in Profits: \u001b[39m\u001b[38;5;124m\"\u001b[39m \u001b[38;5;241m+\u001b[39m \u001b[38;5;28mstr\u001b[39m(months[revenue_change\u001b[38;5;241m.\u001b[39mindex(\u001b[38;5;28;43mmax\u001b[39;49m\u001b[43m(\u001b[49m\u001b[43mrevenue_change\u001b[49m\u001b[43m)\u001b[49m)\u001b[38;5;241m+\u001b[39m\u001b[38;5;241m1\u001b[39m]) \u001b[38;5;241m+\u001b[39m \u001b[38;5;124m\"\u001b[39m\u001b[38;5;124m \u001b[39m\u001b[38;5;124m\"\u001b[39m \u001b[38;5;241m+\u001b[39m \u001b[38;5;124m\"\u001b[39m\u001b[38;5;124m($\u001b[39m\u001b[38;5;124m\"\u001b[39m \u001b[38;5;241m+\u001b[39m \u001b[38;5;28mstr\u001b[39m(greatest_increase) \u001b[38;5;241m+\u001b[39m \u001b[38;5;124m\"\u001b[39m\u001b[38;5;124m)\u001b[39m\u001b[38;5;130;01m\\n\u001b[39;00m\u001b[38;5;124m\"\u001b[39m)\n",
      "\u001b[1;31mValueError\u001b[0m: max() arg is an empty sequence"
     ]
    }
   ],
   "source": [
    "file.write(\"Greatest Increase in Profits: \" + str(months[revenue_change.index(max(revenue_change))+1]) + \" \" + \"($\" + str(greatest_increase) + \")\\n\")\n"
   ]
  },
  {
   "cell_type": "code",
   "execution_count": null,
   "id": "2ed7b151",
   "metadata": {},
   "outputs": [],
   "source": []
  }
 ],
 "metadata": {
  "kernelspec": {
   "display_name": "Python 3 (ipykernel)",
   "language": "python",
   "name": "python3"
  },
  "language_info": {
   "codemirror_mode": {
    "name": "ipython",
    "version": 3
   },
   "file_extension": ".py",
   "mimetype": "text/x-python",
   "name": "python",
   "nbconvert_exporter": "python",
   "pygments_lexer": "ipython3",
   "version": "3.9.12"
  }
 },
 "nbformat": 4,
 "nbformat_minor": 5
}
