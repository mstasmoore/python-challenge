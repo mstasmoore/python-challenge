{
 "cells": [
  {
   "cell_type": "code",
   "execution_count": 1,
   "id": "41a37387",
   "metadata": {},
   "outputs": [],
   "source": [
    "import csv\n",
    "import os"
   ]
  },
  {
   "cell_type": "code",
   "execution_count": 3,
   "id": "af4f1d09",
   "metadata": {},
   "outputs": [],
   "source": [
    "data =  csv.DictReader(open('C:\\\\Users\\\\mstas\\\\Desktop\\\\python-challenge\\\\Resources\\\\budget_data.csv'))"
   ]
  },
  {
   "cell_type": "code",
   "execution_count": 4,
   "id": "625c4dd7",
   "metadata": {},
   "outputs": [],
   "source": [
    "months = 0\n",
    "total=0\n",
    "total_ch = 0"
   ]
  },
  {
   "cell_type": "code",
   "execution_count": 5,
   "id": "d7338faf",
   "metadata": {},
   "outputs": [],
   "source": [
    "#list\n",
    "inc = ['',0] \n",
    "dec = ['',0]"
   ]
  },
  {
   "cell_type": "code",
   "execution_count": 6,
   "id": "a572dcc4",
   "metadata": {},
   "outputs": [],
   "source": [
    "#headers\n",
    "headers=[]\n",
    "headers = data.fieldnames "
   ]
  },
  {
   "cell_type": "code",
   "execution_count": 8,
   "id": "49668a70",
   "metadata": {},
   "outputs": [],
   "source": [
    "for i,row in enumerate(data):\n",
    "  rev = int(row['Profit/Losses'])\n",
    "  months += 1\n",
    "  total += rev\n",
    "\n",
    "  if i == 0:  \n",
    "    pre_rev = rev "
   ]
  },
  {
   "cell_type": "code",
   "execution_count": 9,
   "id": "293ecee4",
   "metadata": {},
   "outputs": [],
   "source": [
    "  change = rev - pre_rev"
   ]
  },
  {
   "cell_type": "code",
   "execution_count": 10,
   "id": "1be45cd3",
   "metadata": {},
   "outputs": [],
   "source": [
    "#average change\n",
    "total_ch += change\n",
    "pre_rev = rev  "
   ]
  },
  {
   "cell_type": "code",
   "execution_count": 12,
   "id": "5b00db0c",
   "metadata": {},
   "outputs": [],
   "source": [
    "#greatest increase\n",
    "if change > inc[1]:\n",
    "    inc[1] = change\n",
    "    inc[0] = row['Date']"
   ]
  },
  {
   "cell_type": "code",
   "execution_count": 13,
   "id": "9ab6226a",
   "metadata": {},
   "outputs": [],
   "source": [
    "#greatest Decrease\n",
    "if change < dec[1]:\n",
    "    dec[1] = change\n",
    "    dec[0] = row['Date']"
   ]
  },
  {
   "cell_type": "code",
   "execution_count": 18,
   "id": "c48ae302",
   "metadata": {},
   "outputs": [],
   "source": [
    "#output analysis\n",
    "output = f'''\\n  Financial Analysis\n",
    "  ----------------------------\n",
    "    Total Months: {months}\n",
    "  Total: $ {total:,.2f}\n",
    "  Average Change: $ {total_ch/(months-1):,.2f}\n",
    "  Greatest Increase in Profits: {inc[0]} (${inc[1]:,.2f})\n",
    "  Greatest Decrease in Profits: {dec[0]} (${dec[1]:,.2f}) ''' "
   ]
  },
  {
   "cell_type": "code",
   "execution_count": 22,
   "id": "ff8ea4d4",
   "metadata": {},
   "outputs": [
    {
     "name": "stdout",
     "output_type": "stream",
     "text": [
      "\n",
      "  Financial Analysis\n",
      "  ----------------------------\n",
      "    Total Months: 86\n",
      "  Total: $ 22,564,198.00\n",
      "  Average Change: $ -8,311.11\n",
      "  Greatest Increase in Profits:  ($0.00)\n",
      "  Greatest Decrease in Profits: Feb-17 ($-706,444.00) \n"
     ]
    }
   ],
   "source": [
    "print(output)"
   ]
  },
  {
   "cell_type": "code",
   "execution_count": 31,
   "id": "a9438e98",
   "metadata": {},
   "outputs": [],
   "source": [
    "with open('C:/Users/mstas/Desktop/Python/PyBank/Analysis/Financial_Analysis.txt', 'w') as file:\n",
    "    file.write(output)"
   ]
  },
  {
   "cell_type": "code",
   "execution_count": null,
   "id": "b01150b0",
   "metadata": {},
   "outputs": [],
   "source": []
  }
 ],
 "metadata": {
  "kernelspec": {
   "display_name": "Python 3 (ipykernel)",
   "language": "python",
   "name": "python3"
  },
  "language_info": {
   "codemirror_mode": {
    "name": "ipython",
    "version": 3
   },
   "file_extension": ".py",
   "mimetype": "text/x-python",
   "name": "python",
   "nbconvert_exporter": "python",
   "pygments_lexer": "ipython3",
   "version": "3.9.12"
  }
 },
 "nbformat": 4,
 "nbformat_minor": 5
}
