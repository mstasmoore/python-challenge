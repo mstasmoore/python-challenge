{
 "cells": [
  {
   "cell_type": "code",
   "execution_count": 1,
   "id": "4239800f",
   "metadata": {},
   "outputs": [],
   "source": [
    "import csv\n",
    "import os"
   ]
  },
  {
   "cell_type": "code",
   "execution_count": 2,
   "id": "b786fef3",
   "metadata": {},
   "outputs": [],
   "source": [
    "csv_path= 'C:/Users/mstas/Desktop/python-challenge/PyPoll/Resources/election_data.csv'"
   ]
  },
  {
   "cell_type": "code",
   "execution_count": 3,
   "id": "84785d11",
   "metadata": {},
   "outputs": [],
   "source": [
    "candidates=[]\n",
    "nondupcandidates=[]"
   ]
  },
  {
   "cell_type": "code",
   "execution_count": 4,
   "id": "f02b0de3",
   "metadata": {},
   "outputs": [],
   "source": [
    "#total votes \n",
    "votesforStock=0\n",
    "votesforDegette=0\n",
    "votesforDoane=0"
   ]
  },
  {
   "cell_type": "code",
   "execution_count": 5,
   "id": "71a41689",
   "metadata": {},
   "outputs": [],
   "source": [
    "# percentage of votes\n",
    "PercentforStock=0\n",
    "PercentforDegette=0\n",
    "PercentforDoane=0"
   ]
  },
  {
   "cell_type": "code",
   "execution_count": 6,
   "id": "fdf364d4",
   "metadata": {},
   "outputs": [],
   "source": [
    "with open(csv_path) as handler:\n",
    "    csvreader = csv.reader(handler, delimiter=\",\")\n",
    "    csvheader = next(csvreader)   \n",
    "    \n",
    "    #list containing every votes candidate selected\n",
    "    for item in csvreader:      \n",
    "        candidates.append(item[2]) \n",
    "        if item[2] == 'Charles Casper Stockham':\n",
    "            votesforStock+=1\n",
    "        if item[2] == 'Diana DeGette':\n",
    "            votesforDegette+=1\n",
    "        if item[2] == 'Raymon Anthony Doane':\n",
    "            votesforDoane+=1\n"
   ]
  },
  {
   "cell_type": "code",
   "execution_count": 7,
   "id": "141bd459",
   "metadata": {},
   "outputs": [],
   "source": [
    "#delete duplicate names\n",
    "for item in candidates:\n",
    "    if item not in nondupcandidates:\n",
    "        nondupcandidates.append(item)"
   ]
  },
  {
   "cell_type": "code",
   "execution_count": 9,
   "id": "51cdac5d",
   "metadata": {},
   "outputs": [],
   "source": [
    "data =csv.DictReader(open('C:/Users/mstas/Desktop/python-challenge/PyPoll/Resources/election_data.csv'))       #using dictreader instead of csv.reader\n",
    "numberofvotes=0\n",
    "for row in data:\n",
    "    numberofvotes += 1"
   ]
  },
  {
   "cell_type": "code",
   "execution_count": 10,
   "id": "e67599f0",
   "metadata": {},
   "outputs": [],
   "source": [
    "#percentage per candidate \n",
    "PercentforStock = (votesforStock/numberofvotes)*100\n",
    "PercentforDegette = (votesforDegette/numberofvotes)*100\n",
    "PercentforDoane = (votesforDoane/numberofvotes)*100"
   ]
  },
  {
   "cell_type": "code",
   "execution_count": 11,
   "id": "fbe92731",
   "metadata": {},
   "outputs": [],
   "source": [
    "winner=\"\"\n",
    "if votesforStock > votesforDegette and votesforStock > votesforDoane:\n",
    "    winner= \"Charles Casper Stockham\"\n",
    "elif votesforDegette > votesforDoane and votesforDegette > votesforStock:\n",
    "    winner = \"Diana DeGette\"\n",
    "elif votesforDoane> votesforStock and votesforDoane > votesforDegette:\n",
    "    winner=\"Raymon Anthony Doane\""
   ]
  },
  {
   "cell_type": "code",
   "execution_count": 12,
   "id": "e1930fa0",
   "metadata": {},
   "outputs": [],
   "source": [
    "output= f'''Election Results\n",
    "-------------------------\n",
    "Total Votes: {numberofvotes:,.0f}\n",
    "# -------------------------\n",
    "{nondupcandidates[0]}: {PercentforStock:.3f}% ({votesforStock:,.0f})\n",
    "{nondupcandidates[1]}: {PercentforDegette:.3f}% ({votesforDegette:,.0f})\n",
    "{nondupcandidates[2]}: {PercentforDoane:.3f}% ({votesforDoane:,.0f})\n",
    "-------------------------\n",
    "Winner: {winner}\n",
    "-------------------------'''"
   ]
  },
  {
   "cell_type": "code",
   "execution_count": 13,
   "id": "5cc25202",
   "metadata": {},
   "outputs": [
    {
     "name": "stdout",
     "output_type": "stream",
     "text": [
      "Election Results\n",
      "-------------------------\n",
      "Total Votes: 369,711\n",
      "# -------------------------\n",
      "Charles Casper Stockham: 23.049% (85,213)\n",
      "Diana DeGette: 73.812% (272,892)\n",
      "Raymon Anthony Doane: 3.139% (11,606)\n",
      "-------------------------\n",
      "Winner: Diana DeGette\n",
      "-------------------------\n"
     ]
    }
   ],
   "source": [
    "print(output)"
   ]
  },
  {
   "cell_type": "code",
   "execution_count": 15,
   "id": "c35e2931",
   "metadata": {},
   "outputs": [],
   "source": [
    "with open('C:/Users/mstas/Desktop/python-challenge/PyPoll/Analysis/Financial_Analysis.txt','w') as file:\n",
    "    file.write(output)"
   ]
  },
  {
   "cell_type": "code",
   "execution_count": null,
   "id": "f693963e",
   "metadata": {},
   "outputs": [],
   "source": []
  }
 ],
 "metadata": {
  "kernelspec": {
   "display_name": "Python 3 (ipykernel)",
   "language": "python",
   "name": "python3"
  },
  "language_info": {
   "codemirror_mode": {
    "name": "ipython",
    "version": 3
   },
   "file_extension": ".py",
   "mimetype": "text/x-python",
   "name": "python",
   "nbconvert_exporter": "python",
   "pygments_lexer": "ipython3",
   "version": "3.9.12"
  }
 },
 "nbformat": 4,
 "nbformat_minor": 5
}
